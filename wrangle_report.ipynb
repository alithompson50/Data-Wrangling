{
 "cells": [
  {
   "cell_type": "markdown",
   "metadata": {},
   "source": [
    "In order to clean the data and get it to a place where it could be analyzed I went through several steps and identified 10 quality issues and 2 tidiness issues that needed to be addressed before analysis could take place. At first I had to import the three data files from different sources and get them into a format that I could assess, clean, and later analyze. \n",
    "\n",
    "I created three data frames df_t, df_i, and, df_t2 and then copied the data frames so that I would be able to clean without changing the original data. When assessing the data frames, I used visual and programmatic assessment to determine what needed to be cleaned. \n",
    "\n",
    "In these assessments I found that the rating denominator need to be changed to the value of 10 on every row. The rating numerator contained dates as well as whole numbers instead of floats so I extracted the dates and then changed the data type to float. I also dropped the rows that were above 25 after finding very few values above. I then created a function to identify the lower case values in the name column and then I changed them to None, because I found that all real names were capitalized. Almost all of the values in the retweeted and in reply to columns were null, these columns are retweets and comments, so I dropped all of the rows that were not null. Next I changed the types of several columns to either string or datetime. After removing the non null rows in the retweeted and reply to columns I dropped the columns entirely. I changed the name of the id column in the df_t2 data frame to tweet id so that it would be consistent with the other two data frames.  After changing a few more data types, I dropped all columns in df_t2 because the only ones needed were retweet count, favorite count, and tweet id. \n",
    "\n",
    "The first tidiness issue I dealt with was the dog stages. There was a column for each do stage but there really only needed to be one dog stage column with all of the values contained in it. I combined all of the dog stage columns into one column and dropped the original columns. The second tidiness issue I addressed was that all of the data frames had one common column which was tweet id, so they could all be combined into one data frame. After cleaning the 10 quality issues and the 2 tidiness issues the data was ready to be analyzed. \n"
   ]
  },
  {
   "cell_type": "code",
   "execution_count": 1,
   "metadata": {},
   "outputs": [
    {
     "data": {
      "text/plain": [
       "0"
      ]
     },
     "execution_count": 1,
     "metadata": {},
     "output_type": "execute_result"
    }
   ],
   "source": [
    "from subprocess import call\n",
    "call(['python', '-m', 'nbconvert', 'wrangle_report.ipynb'])"
   ]
  },
  {
   "cell_type": "code",
   "execution_count": null,
   "metadata": {},
   "outputs": [],
   "source": []
  }
 ],
 "metadata": {
  "kernelspec": {
   "display_name": "Python 3",
   "language": "python",
   "name": "python3"
  },
  "language_info": {
   "codemirror_mode": {
    "name": "ipython",
    "version": 3
   },
   "file_extension": ".py",
   "mimetype": "text/x-python",
   "name": "python",
   "nbconvert_exporter": "python",
   "pygments_lexer": "ipython3",
   "version": "3.6.3"
  }
 },
 "nbformat": 4,
 "nbformat_minor": 2
}
