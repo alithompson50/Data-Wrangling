{
 "cells": [
  {
   "cell_type": "markdown",
   "metadata": {},
   "source": [
    "The analysis of the twitter_archive_master.csv provides three main insights. These insights were introduced and analyzed following the dataset being cleaned. The variables analyzed were retweet count, favorite count, name, and dog stage. The same tweet had the highest retweet count and favorite count. The rating numerator was found to have a positive association with the retweet count and the favorite count. You can see in the plots below that as the rating numerator increased the the retweet count and favorite count increased as well. Surprisingly the tweet that had the highest retweet and favorite count had 13/10 rating, which is not the highest rating numerator that exists in the data. The mean of the rating numerator is 10.53, but the retweet and favorite count double around a rating numerator of 13, which shows that even though most of the numerators are around 10 the retweet and favorite count increase at an extreme amount past 10. "
   ]
  },
  {
   "cell_type": "markdown",
   "metadata": {},
   "source": [
    "<img src='image1.png'>"
   ]
  },
  {
   "cell_type": "markdown",
   "metadata": {},
   "source": [
    "<img src='image2.png'>"
   ]
  },
  {
   "cell_type": "markdown",
   "metadata": {},
   "source": [
    "The next insight gathered from this dataset is that names of the dogs in the tweets were very original. The top three most popular names only had 10 original tweets each containing these names. The top three most popular names in the dataset are Cooper, Charlie, and Oliver. Many of the other names were one of a kind and only appeared once in the dataset."
   ]
  },
  {
   "cell_type": "markdown",
   "metadata": {},
   "source": [
    "The last insight found in this dataset was that the most tweets that contained a dog stage fell into the pupper dog stage. The pupper dog stage had 201 tweets in it while the next closest was doggo, which had 62 tweets. There were very few tweets that contained any of the other dog stages and only one tweet was contained in doggo, puppo, and doggo,fluffer. \n"
   ]
  },
  {
   "cell_type": "markdown",
   "metadata": {},
   "source": [
    "<img src='image3.png'>"
   ]
  },
  {
   "cell_type": "code",
   "execution_count": 13,
   "metadata": {},
   "outputs": [
    {
     "data": {
      "text/plain": [
       "0"
      ]
     },
     "execution_count": 13,
     "metadata": {},
     "output_type": "execute_result"
    }
   ],
   "source": [
    "from subprocess import call\n",
    "call(['python', '-m', 'nbconvert', 'act_report.ipynb'])"
   ]
  },
  {
   "cell_type": "code",
   "execution_count": null,
   "metadata": {},
   "outputs": [],
   "source": []
  }
 ],
 "metadata": {
  "kernelspec": {
   "display_name": "Python 3",
   "language": "python",
   "name": "python3"
  },
  "language_info": {
   "codemirror_mode": {
    "name": "ipython",
    "version": 3
   },
   "file_extension": ".py",
   "mimetype": "text/x-python",
   "name": "python",
   "nbconvert_exporter": "python",
   "pygments_lexer": "ipython3",
   "version": "3.6.3"
  }
 },
 "nbformat": 4,
 "nbformat_minor": 2
}
